{
 "cells": [
  {
   "cell_type": "markdown",
   "id": "8270b53b",
   "metadata": {},
   "source": [
    "\n",
    "\n",
    "# Simulating impact of peer review on supporting meritorious science\n"
   ]
  },
  {
   "cell_type": "markdown",
   "id": "e07cf4cb",
   "metadata": {},
   "source": [
    "Please be patient, this make take a few minutes to load.\n",
    "\n",
    "Contact: Breck Baldwin, breckbaldwin@gmail.com\n",
    "\n",
    "Position paper at: https://breckbaldwin.github.io/S3rd/presentations/DOE2021/FundingStrategiesForSciSoftware.html\n",
    "\n",
    "All projects started with the same merit value = .1, and reputation value = 0. The score for a round of funding is a random draw from a normal distribution centered on merit with standard deviation .1 then added to the reputation value. Threshold for funding is .2 so candidates have to get a bit lucky to draw a high value for the score initially to clear the threshold and then get lucky by being drawn from the set of candidates above threshold. If a candidate is funded then their reputation increases .1 and the resource count increases by 1. Resources/reputation can only go up, merit stays the same. "
   ]
  },
  {
   "cell_type": "code",
   "execution_count": 66,
   "id": "7a67f209",
   "metadata": {},
   "outputs": [
    {
     "data": {
      "application/vnd.jupyter.widget-view+json": {
       "model_id": "fa56c647142243f186cd1edcb33e3975",
       "version_major": 2,
       "version_minor": 0
      },
      "text/plain": [
       "interactive(children=(IntSlider(value=10, description='num_projects', max=50, min=1, style=SliderStyle(descrip…"
      ]
     },
     "metadata": {},
     "output_type": "display_data"
    }
   ],
   "source": [
    "from numpy.random import default_rng\n",
    "import random\n",
    "import pandas as pd\n",
    "import plotnine\n",
    "from ipywidgets import interact, interactive, fixed, IntSlider\n",
    "\n",
    "def run_sim(num_projects, num_funding_rounds, num_funding_slots):\n",
    "    rng = default_rng()\n",
    "    projects_top_n = [{}] * num_projects\n",
    "    projects_random_n = [{}] * num_projects\n",
    "    names = \"abcdefghijklmnopqrstuvwxyz\"\n",
    "    for i in range(num_projects):\n",
    "        \n",
    "        projects_top_n[i] = {'id': f\"Project {names[i]}\", 'reputation': .1, 'merit': .1, 'resources': 0}\n",
    "        if i%10 == 0:\n",
    "            projects_top_n[i]['merit'] += 0\n",
    "        projects_random_n[i] = {'id': names[i], 'reputation': .1, 'merit': .1, 'resources': 0}\n",
    "        if i%10 == 0:\n",
    "            projects_random_n[i]['merit'] += 0\n",
    "    threshold = 0.2\n",
    "    sd_merit = 0.1\n",
    "    x = []\n",
    "    y = []\n",
    "    y2 = []\n",
    "    pkg = []\n",
    "    for rfp in range(1, num_funding_rounds + 1):\n",
    "        for i in range(0, num_projects):\n",
    "            projects_top_n[i]['score'] = rng.normal(projects_top_n[i]['merit'], sd_merit, 1)[0] +\\\n",
    "                                         projects_top_n[i]['reputation']\n",
    "            projects_random_n[i]['score'] = rng.normal(projects_random_n[i]['merit'], sd_merit, 1)[0] +\\\n",
    "                                            projects_random_n[i]['reputation']\n",
    "        \n",
    "        sorted_candidates = sorted(projects_top_n, key=lambda s: s['score'], reverse=True)    \n",
    "        for winner in sorted_candidates[0:num_funding_slots]:\n",
    "            winner['reputation'] += .1\n",
    "            winner['resources'] += 1\n",
    "        random_candidates = []\n",
    "        threshold_drop = 0.0\n",
    "        while len(random_candidates) < num_funding_slots:\n",
    "            random_candidates = [s for s in projects_random_n if s['score'] > threshold - threshold_drop]\n",
    "            if len(random_candidates) < num_funding_slots:\n",
    "                threshold_drop += .01\n",
    "        if threshold_drop > 0:\n",
    "            print(f\"Standards have been lowered! Threshold lowered by {threshold_drop:.2f} for iteration {rfp}\")\n",
    "        for winner in random.sample(random_candidates, num_funding_slots):\n",
    "            winner['reputation'] += .1\n",
    "            winner['resources'] += 1\n",
    "\n",
    "        jitter = .1\n",
    "        for i in range(0, num_projects):\n",
    "            #x.append(rng.normal(rfp, jitter, 1)[0])\n",
    "            x.append(rfp)\n",
    "            y.append(rng.normal(projects_top_n[i]['resources'], jitter + .1, 1)[0])\n",
    "            y2.append(rng.normal(projects_random_n[i]['resources'], jitter, 1)[0])\n",
    "            pkg.append(projects_top_n[i]['id'])\n",
    "\n",
    "    package_label = \"Top N = lines \\nRandom N = dots\\n ...\"\n",
    "\n",
    "    df = pd.DataFrame()\n",
    "    df2 = pd.DataFrame()\n",
    "    df['resources'] = y\n",
    "    df2['resources'] = y2\n",
    "    df['rfp_count'] = x\n",
    "    df2['rfp_count'] = x\n",
    "    df['selection method'] = ['Top N totally ordered by score'] * len(x)\n",
    "    df2['selection method'] = ['Random N score above threshold'] * len(x)\n",
    "    df[package_label] = pkg\n",
    "    df2[package_label] = pkg\n",
    "\n",
    "    plot = (\n",
    "        plotnine.ggplot(mapping=plotnine.aes(x='rfp_count', y='resources', group = package_label))\n",
    "        + plotnine.geom_line(data=df, mapping=plotnine.aes(color=package_label), size=.7) \n",
    "        + plotnine.geom_point(data=df2, mapping=plotnine.aes(color=package_label), size=.4)\n",
    "        + plotnine.ggtitle(f\"{num_funding_rounds} funding cycles, {num_projects} projects with {num_funding_slots} awards\")\n",
    "        + plotnine.labs(x=\"Iterations of funding cycle\", y=\"Accumulated resources over time\")\n",
    "        + plotnine.theme_xkcd()\n",
    "        )\n",
    "    print(plot)\n",
    "\n",
    "#label package -> packages, __ top N, . random N\n",
    "style = {'description_width': 'initial'}\n",
    "interactive_plot = interactive(run_sim, \n",
    "                               num_projects=IntSlider(min=1, max=50, step=1, value=10, style=style\n",
    "), \n",
    "                               num_funding_rounds=IntSlider(min=1, max=20, step=1, value=15, style=style), \n",
    "                               num_funding_slots=IntSlider(min=1, max=20, step=1, value=3, style=style))\n",
    "output = interactive_plot.children[-1]\n",
    "#output.layout.height = '500px'\n",
    "interactive_plot\n",
    "\n"
   ]
  }
 ],
 "metadata": {
  "kernelspec": {
   "display_name": "Python 3 (ipykernel)",
   "language": "python",
   "name": "python3"
  },
  "language_info": {
   "codemirror_mode": {
    "name": "ipython",
    "version": 3
   },
   "file_extension": ".py",
   "mimetype": "text/x-python",
   "name": "python",
   "nbconvert_exporter": "python",
   "pygments_lexer": "ipython3",
   "version": "3.8.10"
  }
 },
 "nbformat": 4,
 "nbformat_minor": 5
}
