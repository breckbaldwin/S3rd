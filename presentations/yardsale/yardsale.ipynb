{
 "cells": [
  {
   "cell_type": "code",
   "execution_count": null,
   "id": "7ea4d5f9",
   "metadata": {},
   "outputs": [],
   "source": [
    "import numpy as np\n",
    "import random\n",
    "import ipywidgets as widgets\n",
    "from IPython.display import display\n",
    "import pandas as pd\n",
    "import plotnine\n",
    "\n",
    "#@widgets.interact_manual(lossRation=(0.0, 1.0, 0.1), winRatio=(0.0, 1.0, .01))\n",
    "#def simulation(lossRatio=.17, winRatio=.2):\n",
    "nonAwardRatio = .25\n",
    "awardRatio = .2\n",
    "nScientists = 1000\n",
    "nDailyViews = 100000\n",
    "nDays = 400\n",
    "startViews = nDailyViews/nScientists\n",
    "item2views = dict.fromkeys(range(nScientists), startViews)\n",
    "iterations = []\n",
    "max_views = []\n",
    "for i in range(1000):\n",
    "    for item in np.random.choice(range(nScientists), 1000):\n",
    "        for otherItem in random.sample(range(nScientists), 1):\n",
    "            viewers = min(item2views[item], item2views[otherItem])\n",
    "            if np.random.binomial(1, .5) == 1:\n",
    "                viewersExchanged = viewers * awardRatio\n",
    "                item2views[item] += viewersExchanged\n",
    "                item2views[otherItem] -= viewersExchanged\n",
    "            else:\n",
    "                viewersExchanged = viewers * nonAwardRatio\n",
    "                item2views[item] -= viewersExchanged\n",
    "                item2views[otherItem] += viewersExchanged\n",
    "    iterations.append(i)\n",
    "    max_views.append(max(item2views.values()))\n",
    "df = pd.DataFrame()\n",
    "df['iterations'] = iterations\n",
    "df['max_views'] = max_views\n",
    "plot = (\n",
    "    plotnine.ggplot(data=df)\n",
    "    + plotnine.aes(x='iterations', y='max_views')\n",
    "    + plotnine.geom_point()\n",
    "    + plotnine.theme_xkcd()\n",
    "    )\n",
    "print(plot)\n",
    "    "
   ]
  }
 ],
 "metadata": {
  "kernelspec": {
   "display_name": "Python 3 (ipykernel)",
   "language": "python",
   "name": "python3"
  },
  "language_info": {
   "codemirror_mode": {
    "name": "ipython",
    "version": 3
   },
   "file_extension": ".py",
   "mimetype": "text/x-python",
   "name": "python",
   "nbconvert_exporter": "python",
   "pygments_lexer": "ipython3",
   "version": "3.8.10"
  }
 },
 "nbformat": 4,
 "nbformat_minor": 5
}
